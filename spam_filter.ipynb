{
 "metadata": {
  "name": "",
  "signature": "sha256:338dc1359ed82c45baf4be54224c533eedec663c3eb6609026c323965b189636"
 },
 "nbformat": 3,
 "nbformat_minor": 0,
 "worksheets": [
  {
   "cells": [
    {
     "cell_type": "heading",
     "level": 1,
     "metadata": {},
     "source": [
      "End-to-end example: automated spam filtering"
     ]
    },
    {
     "cell_type": "code",
     "collapsed": false,
     "input": [
      "%matplotlib inline\n",
      "import matplotlib.pyplot as plt\n",
      "import csv\n",
      "import pandas\n",
      "import sklearn\n",
      "import numpy as np\n",
      "from sklearn.feature_extraction.text import CountVectorizer, TfidfTransformer\n",
      "from sklearn.naive_bayes import MultinomialNB\n",
      "from sklearn.svm import SVC, LinearSVC\n",
      "from sklearn.metrics import classification_report, f1_score, accuracy_score, confusion_matrix\n",
      "from sklearn.pipeline import Pipeline\n",
      "from sklearn.grid_search import GridSearchCV\n",
      "from sklearn.cross_validation import StratifiedKFold, cross_val_score, train_test_split \n",
      "from sklearn.tree import DecisionTreeClassifier \n",
      "from sklearn.learning_curve import learning_curve"
     ],
     "language": "python",
     "metadata": {},
     "outputs": [],
     "prompt_number": 1
    },
    {
     "cell_type": "heading",
     "level": 2,
     "metadata": {},
     "source": [
      "Step 1: Load data"
     ]
    },
    {
     "cell_type": "code",
     "collapsed": false,
     "input": [
      "from dataset import load_or_create_dataset\n",
      "dataset = load_or_create_dataset(scaled=False)\n",
      "X_train, X_test, y_train, y_test = dataset\n",
      "X_train.shape\n"
     ],
     "language": "python",
     "metadata": {},
     "outputs": [
      {
       "metadata": {},
       "output_type": "pyout",
       "prompt_number": 2,
       "text": [
        "(1588, 205)"
       ]
      }
     ],
     "prompt_number": 2
    },
    {
     "cell_type": "heading",
     "level": 2,
     "metadata": {},
     "source": [
      "Step 4: Training a model, detecting spam"
     ]
    },
    {
     "cell_type": "markdown",
     "metadata": {},
     "source": [
      "With messages represented as vectors, we can finally train our spam/ham classifier. This part is pretty straightforward, and there are many libraries that realize the training algorithms."
     ]
    },
    {
     "cell_type": "markdown",
     "metadata": {},
     "source": [
      "We'll be using scikit-learn here, choosing the [Naive Bayes](http://en.wikipedia.org/wiki/Naive_Bayes_classifier) classifier to start with:"
     ]
    },
    {
     "cell_type": "code",
     "collapsed": false,
     "input": [
      "%time spam_detector = MultinomialNB().fit(X_train, y_train)"
     ],
     "language": "python",
     "metadata": {},
     "outputs": [
      {
       "output_type": "stream",
       "stream": "stdout",
       "text": [
        "CPU times: user 3.9 ms, sys: 0 ns, total: 3.9 ms\n",
        "Wall time: 3.58 ms\n"
       ]
      }
     ],
     "prompt_number": 3
    },
    {
     "cell_type": "code",
     "collapsed": false,
     "input": [
      "all_predictions = spam_detector.predict(X_test)\n",
      "plt.matshow(confusion_matrix(y_test, all_predictions), cmap=plt.cm.binary, interpolation='nearest')\n",
      "plt.title('confusion matrix')\n",
      "plt.colorbar()\n",
      "plt.ylabel('expected label')\n",
      "plt.xlabel('predicted label')"
     ],
     "language": "python",
     "metadata": {},
     "outputs": [
      {
       "metadata": {},
       "output_type": "pyout",
       "prompt_number": 4,
       "text": [
        "<matplotlib.text.Text at 0x7fa8475d2ac8>"
       ]
      },
      {
       "metadata": {},
       "output_type": "display_data",
       "png": "[encoded data removed]",
       "text": [
        "<matplotlib.figure.Figure at 0x7fa87469be80>"
       ]
      }
     ],
     "prompt_number": 4
    },
    {
     "cell_type": "markdown",
     "metadata": {},
     "source": [
      "From this confusion matrix, we can compute precision and recall, or their combination (harmonic mean) F1:"
     ]
    },
    {
     "cell_type": "code",
     "collapsed": false,
     "input": [
      "print (classification_report(y_test, all_predictions))"
     ],
     "language": "python",
     "metadata": {},
     "outputs": [
      {
       "output_type": "stream",
       "stream": "stdout",
       "text": [
        "             precision    recall  f1-score   support\n",
        "\n",
        "          0       0.89      0.74      0.81       311\n",
        "          1       0.42      0.67      0.52        86\n",
        "\n",
        "avg / total       0.79      0.73      0.74       397\n",
        "\n"
       ]
      }
     ],
     "prompt_number": 5
    },
    {
     "cell_type": "markdown",
     "metadata": {},
     "source": [
      "There are quite a few possible metrics for evaluating model performance. Which one is the most suitable depends on the task. For example, the cost of mispredicting \"spam\" as \"ham\" is probably much lower than mispredicting \"ham\" as \"spam\"."
     ]
    },
    {
     "cell_type": "heading",
     "level": 2,
     "metadata": {},
     "source": [
      "SVM classifier"
     ]
    },
    {
     "cell_type": "markdown",
     "metadata": {},
     "source": [
      "Let's try with another classifier: [Support Vector Machines (SVM)](http://en.wikipedia.org/wiki/Support_vector_machine). SVMs are a great starting point when classifying text data, getting state of the art results very quickly and with pleasantly little tuning (although a bit more than Naive Bayes).\n",
      "\n",
      "Before we start we load a scaled dataset:"
     ]
    },
    {
     "cell_type": "code",
     "collapsed": false,
     "input": [
      "from dataset import load_or_create_dataset\n",
      "dataset = load_or_create_dataset(scaled=True)\n",
      "X_train, X_test, y_train, y_test = dataset\n",
      "X_train.shape\n"
     ],
     "language": "python",
     "metadata": {},
     "outputs": [
      {
       "metadata": {},
       "output_type": "pyout",
       "prompt_number": 6,
       "text": [
        "(1588, 205)"
       ]
      }
     ],
     "prompt_number": 6
    },
    {
     "cell_type": "code",
     "collapsed": false,
     "input": [
      "kernel = 'linear'\n",
      "\n",
      "clf = SVC(kernel=kernel, gamma=10)\n",
      "clf.fit(X_train, y_train)\n",
      "all_predictions = clf.predict(X_test)\n",
      "print (kernel)\n",
      "print (classification_report(y_test, all_predictions))\n"
     ],
     "language": "python",
     "metadata": {},
     "outputs": [
      {
       "output_type": "stream",
       "stream": "stdout",
       "text": [
        "linear\n",
        "             precision    recall  f1-score   support\n",
        "\n",
        "          0       0.80      0.96      0.87       311\n",
        "          1       0.45      0.12      0.19        86\n",
        "\n",
        "avg / total       0.72      0.78      0.72       397\n",
        "\n"
       ]
      }
     ],
     "prompt_number": 7
    },
    {
     "cell_type": "code",
     "collapsed": false,
     "input": [
      "kernel = 'rbf'\n",
      "\n",
      "clf = SVC(kernel=kernel, gamma=10)\n",
      "clf.fit(X_train, y_train)\n",
      "all_predictions = clf.predict(X_test)\n",
      "print (kernel)\n",
      "print (classification_report(y_test, all_predictions))\n"
     ],
     "language": "python",
     "metadata": {},
     "outputs": [
      {
       "output_type": "stream",
       "stream": "stdout",
       "text": [
        "rbf\n",
        "             precision    recall  f1-score   support\n",
        "\n",
        "          0       0.79      0.96      0.87       311\n",
        "          1       0.39      0.08      0.13        86\n",
        "\n",
        "avg / total       0.70      0.77      0.71       397\n",
        "\n"
       ]
      }
     ],
     "prompt_number": 8
    },
    {
     "cell_type": "code",
     "collapsed": false,
     "input": [
      "kernel = 'poly'\n",
      "\n",
      "clf = SVC(kernel=kernel, gamma=10)\n",
      "clf.fit(X_train, y_train)\n",
      "all_predictions = clf.predict(X_test)\n",
      "print (kernel)\n",
      "print (classification_report(y_test, all_predictions))\n"
     ],
     "language": "python",
     "metadata": {},
     "outputs": [
      {
       "output_type": "stream",
       "stream": "stdout",
       "text": [
        "poly\n",
        "             precision    recall  f1-score   support\n",
        "\n",
        "          0       0.83      0.80      0.82       311\n",
        "          1       0.37      0.42      0.39        86\n",
        "\n",
        "avg / total       0.73      0.72      0.72       397\n",
        "\n"
       ]
      }
     ],
     "prompt_number": 9
    },
    {
     "cell_type": "code",
     "collapsed": false,
     "input": [
      "from sklearn.ensemble import  RandomForestClassifier\n",
      "clf = RandomForestClassifier()\n",
      "clf.fit(X_train, y_train)\n",
      "all_predictions = clf.predict(X_test)\n",
      "print (classification_report(y_test, all_predictions))\n"
     ],
     "language": "python",
     "metadata": {},
     "outputs": [
      {
       "output_type": "stream",
       "stream": "stdout",
       "text": [
        "             precision    recall  f1-score   support\n",
        "\n",
        "          0       0.81      0.93      0.87       311\n",
        "          1       0.46      0.22      0.30        86\n",
        "\n",
        "avg / total       0.74      0.78      0.74       397\n",
        "\n"
       ]
      }
     ],
     "prompt_number": 10
    },
    {
     "cell_type": "code",
     "collapsed": false,
     "input": [
      "plt.matshow(confusion_matrix(y_test, all_predictions), cmap=plt.cm.binary, interpolation='nearest')\n",
      "plt.title('confusion matrix')\n",
      "plt.colorbar()\n",
      "plt.ylabel('expected label')\n",
      "plt.xlabel('predicted label')"
     ],
     "language": "python",
     "metadata": {},
     "outputs": [
      {
       "metadata": {},
       "output_type": "pyout",
       "prompt_number": 11,
       "text": [
        "<matplotlib.text.Text at 0x7fa847013668>"
       ]
      },
      {
       "metadata": {},
       "output_type": "display_data",
       "png": "[encoded data removed]",
       "text": [
        "<matplotlib.figure.Figure at 0x7fa8746b6f98>"
       ]
      }
     ],
     "prompt_number": 11
    },
    {
     "cell_type": "code",
     "collapsed": false,
     "input": [
      "clf = DecisionTreeClassifier()\n",
      "clf.fit(X_train, y_train)\n",
      "all_predictions = clf.predict(X_test)\n",
      "print (classification_report(y_test, all_predictions))\n"
     ],
     "language": "python",
     "metadata": {},
     "outputs": [
      {
       "output_type": "stream",
       "stream": "stdout",
       "text": [
        "             precision    recall  f1-score   support\n",
        "\n",
        "          0       0.82      0.83      0.83       311\n",
        "          1       0.36      0.34      0.35        86\n",
        "\n",
        "avg / total       0.72      0.73      0.72       397\n",
        "\n"
       ]
      }
     ],
     "prompt_number": 12
    },
    {
     "cell_type": "code",
     "collapsed": false,
     "input": [],
     "language": "python",
     "metadata": {},
     "outputs": [],
     "prompt_number": 11
    }
   ],
   "metadata": {}
  }
 ]
}